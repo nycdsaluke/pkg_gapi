{
 "cells": [
  {
   "cell_type": "code",
   "execution_count": 5,
   "metadata": {},
   "outputs": [],
   "source": [
    "from gapi.utils.drive_io import get_files\n",
    "from gapi.utils.gmail import create_message, send_message\n",
    "\n",
    "def send_exams(receipient, name, urls):\n",
    "\n",
    "    message_text = \"Dear {},\\n\\nPlease grade the following exams:\\n\\n\".format(name)\n",
    "    message_text += \"\\n\".join(urls) + \"\\n\\nBest,\"\n",
    "    \n",
    "    msg = create_message(\n",
    "        sender,\n",
    "        receipient, \n",
    "        \"Exam grading assignment\", \n",
    "        message_text\n",
    "    )\n",
    "    \n",
    "    send_message(cred_path, \"me\", msg)"
   ]
  },
  {
   "cell_type": "code",
   "execution_count": 6,
   "metadata": {},
   "outputs": [
    {
     "data": {
      "text/plain": [
       "[{'id': '12HI9x5YE808jZ3xK7PeO4OXwPPEJiNZ3', 'name': 'fake_exam1.ipynb'},\n",
       " {'id': '1XZPPfgorFjU04pHFSfo8VJbywDPR2bp9', 'name': 'fake_exam3.ipynb'},\n",
       " {'id': '1hD6MUniLv6WRjyLlNlxI9vK1XyzgLkzr', 'name': 'fake_exam2.ipynb'}]"
      ]
     },
     "execution_count": 6,
     "metadata": {},
     "output_type": "execute_result"
    }
   ],
   "source": [
    "cred_path = \"./creds\"\n",
    "fid = \"1N4Pa6XhAXgYXsTTbtzE7W7H9fXRJcVKm\" # <<< this is the id of the folder with all exams\n",
    "\n",
    "exam_files = get_files(cred_path, fid)\n",
    "exam_files"
   ]
  },
  {
   "cell_type": "code",
   "execution_count": 8,
   "metadata": {},
   "outputs": [
    {
     "name": "stdout",
     "output_type": "stream",
     "text": [
      "Message Id: 17133211c1debf59\n",
      "Message Id: 17133211e3814c99\n"
     ]
    }
   ],
   "source": [
    "url_tmp = \"https://drive.google.com/file/d/{}/view?usp=sharing\"\n",
    "urls = [url_tmp.format(d[\"id\"]) for d in exam_files[:2]]\n",
    "\n",
    "## VVVVVV You can try to send an exam to luke\n",
    "grader_email = \"luke.lin@nycdatascience.com\"\n",
    "grader_name = \"Luke\"\n",
    "\n",
    "for d in urls:\n",
    "    send_exams(grader_email, grader_name, urls)"
   ]
  },
  {
   "cell_type": "code",
   "execution_count": null,
   "metadata": {},
   "outputs": [],
   "source": []
  }
 ],
 "metadata": {
  "kernelspec": {
   "display_name": "Python 3",
   "language": "python",
   "name": "python3"
  },
  "language_info": {
   "codemirror_mode": {
    "name": "ipython",
    "version": 3
   },
   "file_extension": ".py",
   "mimetype": "text/x-python",
   "name": "python",
   "nbconvert_exporter": "python",
   "pygments_lexer": "ipython3",
   "version": "3.7.3"
  }
 },
 "nbformat": 4,
 "nbformat_minor": 4
}
